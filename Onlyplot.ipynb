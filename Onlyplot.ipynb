{
 "cells": [
  {
   "cell_type": "code",
   "execution_count": null,
   "metadata": {},
   "outputs": [],
   "source": [
    "import pandas as pd\n",
    "csv_files = ['R1_1100_DC.csv', 'R2_1100_DC.csv', 'R3_1100_DC.csv']\n",
    "combined_data = pd.DataFrame()\n",
    "for file in csv_files:\n",
    "    df = pd.read_csv(file)\n",
    "    combined_data = pd.concat([combined_data, df], axis=0)\n",
    "\n",
    "mean_data = combined_data.groupby('Angle').mean().reset_index()\n",
    "\n",
    "mean_data['Index'] = range(1, len(mean_data) + 1)\n",
    "\n",
    "mean_data = mean_data[['Index', 'Angle', 'x', 'y', 'z']]\n",
    "\n",
    "mean_data.to_csv('TOT_1100_DC.csv', index=False)"
   ]
  }
 ],
 "metadata": {
  "language_info": {
   "name": "python"
  }
 },
 "nbformat": 4,
 "nbformat_minor": 2
}
